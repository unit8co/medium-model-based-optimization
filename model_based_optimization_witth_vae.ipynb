{
 "cells": [
  {
   "cell_type": "markdown",
   "metadata": {},
   "source": [
    "# Model-based Optimization using Variational Auto-Encoders\n",
    "\n",
    "This notebook contains the source code for the Medium article _Optimize What You Can Predict: Model-Based Optimization Using Variational Auto-Encoders_. We first build and train a multi-head Variational Autoencoder. Then we implement methods to navigate in the latent space such that the output of certain predictive models is optimized."
   ]
  },
  {
   "cell_type": "markdown",
   "metadata": {},
   "source": [
    "## Imports"
   ]
  },
  {
   "cell_type": "code",
   "execution_count": 1,
   "metadata": {},
   "outputs": [],
   "source": [
    "import math\n",
    "import numpy as np\n",
    "import matplotlib.pyplot as plt\n",
    "import torch\n",
    "import torch.nn as nn\n",
    "import torch.nn.functional as F\n",
    "from torch.utils.data import Dataset, DataLoader\n",
    "from torch.optim import Adam\n",
    "from torch.optim.lr_scheduler import StepLR\n",
    "from torchvision import datasets, transforms\n",
    "from sklearn.metrics import accuracy_score, mean_squared_error, mean_absolute_error\n",
    "from skimage import morphology, transform\n",
    "from tqdm.notebook import tqdm"
   ]
  },
  {
   "cell_type": "markdown",
   "metadata": {},
   "source": [
    "## Hyper-parameters"
   ]
  },
  {
   "cell_type": "code",
   "execution_count": 2,
   "metadata": {},
   "outputs": [],
   "source": [
    "# helper function\n",
    "def dim_after_convs():\n",
    "    \"\"\"\n",
    "    Compute the (flattened) dimensionality of the tensor after the convolutional part of the encoder,\n",
    "    as well as the single-axis dimensionality.\n",
    "    \"\"\"\n",
    "    dim = INP_HEIGHT\n",
    "    for _ in ENC_CONV_LAYER_CHANNELS[1:]:\n",
    "        dim = math.floor(1 + (dim - KERNEL_SIZE) / STRIDE)\n",
    "    flattened_dim = (dim ** 2) * ENC_CONV_LAYER_CHANNELS[-1]\n",
    "    return flattened_dim, dim"
   ]
  },
  {
   "cell_type": "code",
   "execution_count": 3,
   "metadata": {},
   "outputs": [],
   "source": [
    "# folders\n",
    "DATA_DIR = \"./data\"\n",
    "\n",
    "# data\n",
    "NUM_CLASSES = 10\n",
    "NUM_CHANNELS = 1\n",
    "INP_HEIGHT = 28\n",
    "INP_WIDTH = 28\n",
    "INP_DIM = INP_WIDTH * INP_HEIGHT\n",
    "\n",
    "# training\n",
    "BATCH_SIZE = 512\n",
    "INIT_LR = 1e-3\n",
    "LR_DECAY_GAMMA = 0.5\n",
    "LR_DECAY_STEPS = 5\n",
    "KLD_BETA = 1e-4\n",
    "NUM_EPOCHS = 60\n",
    "OPTIMIZER = Adam\n",
    "\n",
    "# architecture\n",
    "EMBEDDING_DIM = 16\n",
    "KERNEL_SIZE = 4\n",
    "STRIDE = 2\n",
    "ENC_CONV_LAYER_CHANNELS = [NUM_CHANNELS, 64, 128]\n",
    "FL_DIM_AFTER_CONV, SINGLE_DIM_AFTER_CONV = dim_after_convs()\n",
    "ENC_DENSE_LAYER_SIZES = [FL_DIM_AFTER_CONV, 200, EMBEDDING_DIM]\n",
    "DEC_DENSE_LAYER_SIZES = [EMBEDDING_DIM, 200, FL_DIM_AFTER_CONV]\n",
    "DEC_CONV_LAYER_CHANNELS = [ENC_CONV_LAYER_CHANNELS[-1], 64, NUM_CHANNELS]\n",
    "DIGIT_LAYER_SIZES = [EMBEDDING_DIM, 64, NUM_CLASSES]\n",
    "THICKNESS_LAYER_SIZES = [EMBEDDING_DIM, 64, 1]"
   ]
  },
  {
   "cell_type": "markdown",
   "metadata": {},
   "source": [
    "## Data"
   ]
  },
  {
   "cell_type": "code",
   "execution_count": 4,
   "metadata": {},
   "outputs": [],
   "source": [
    "class DigitThicknessSet(Dataset):\n",
    "    \n",
    "    def __init__(self, train: bool):\n",
    "        self.data_set = datasets.MNIST(DATA_DIR, train=train, download=True)\n",
    "        self.to_tensor = transforms.ToTensor()\n",
    "        self.normalize = transforms.Normalize((0.1307,), (0.3081,))\n",
    "        \n",
    "        # pre-compute thickness for each digit\n",
    "        self.thickness_map = {}\n",
    "        for i, (img, _) in enumerate(tqdm(self.data_set)):\n",
    "            self.thickness_map[i] = self._mean_thickness(img)\n",
    "        \n",
    "    def __getitem__(self, index):\n",
    "        img, digit = self.data_set[index]\n",
    "        thickness = self.thickness_map[index]\n",
    "        img = self.normalize(self.to_tensor(img))\n",
    "        return img, digit, thickness\n",
    "    \n",
    "    def __len__(self):\n",
    "        return len(self.data_set)\n",
    "        \n",
    "    def _mean_thickness(self, img, upscale=3, thresh=0.5):\n",
    "        img = np.array(img)\n",
    "        img = transform.pyramid_expand(img, upscale=upscale, order=3, multichannel=False)\n",
    "        img_min, img_max = img.min(), img.max()\n",
    "        bin_img = (img >= img_min + (img_max - img_min) * thresh)\n",
    "        skeleton, dist_map = morphology.medial_axis(bin_img, return_distance=True)\n",
    "        return 2. * np.mean(dist_map[skeleton]) / upscale"
   ]
  },
  {
   "cell_type": "code",
   "execution_count": 5,
   "metadata": {},
   "outputs": [],
   "source": [
    "def load_data():\n",
    "    train_set = DataLoader(DigitThicknessSet(train=True), batch_size=BATCH_SIZE, shuffle=True)\n",
    "    test_set = DataLoader(DigitThicknessSet(train=False), batch_size=BATCH_SIZE)\n",
    "    return train_set, test_set"
   ]
  },
  {
   "cell_type": "markdown",
   "metadata": {},
   "source": [
    "## Model definition"
   ]
  },
  {
   "cell_type": "code",
   "execution_count": 6,
   "metadata": {},
   "outputs": [],
   "source": [
    "class VariationalEncoder(nn.Module):\n",
    "    \n",
    "    def __init__(self):\n",
    "        super(VariationalEncoder, self).__init__()\n",
    "        self.create_network()\n",
    "\n",
    "    def create_network(self):\n",
    "        \n",
    "        # convolutional part\n",
    "        for i in range(1, len(ENC_CONV_LAYER_CHANNELS)):\n",
    "            self.add_module(f\"enc_conv_{i}\", nn.Conv2d(in_channels=ENC_CONV_LAYER_CHANNELS[i - 1],\n",
    "                                                       out_channels=ENC_CONV_LAYER_CHANNELS[i],\n",
    "                                                       kernel_size=KERNEL_SIZE, stride=STRIDE))\n",
    "            self.add_module(f\"enc_conv_activation_{i}\", nn.ReLU())\n",
    "            \n",
    "        # fully-connected part\n",
    "        for i in range(1, len(ENC_DENSE_LAYER_SIZES)):\n",
    "            if i == len(ENC_DENSE_LAYER_SIZES) - 1:\n",
    "                self.add_module('mu', nn.Linear(ENC_DENSE_LAYER_SIZES[i - 1],\n",
    "                                                ENC_DENSE_LAYER_SIZES[i], bias=True))\n",
    "                self.add_module('logvar', nn.Linear(ENC_DENSE_LAYER_SIZES[i - 1],\n",
    "                                                    ENC_DENSE_LAYER_SIZES[i], bias=True))\n",
    "            else:\n",
    "                self.add_module(f\"enc_linear_{i}\", nn.Linear(ENC_DENSE_LAYER_SIZES[i - 1],\n",
    "                                                             ENC_DENSE_LAYER_SIZES[i], bias=True))\n",
    "                self.add_module(f\"enc_linear_activation_{i}\", nn.ReLU())\n",
    "\n",
    "    def forward(self, inp):\n",
    "        tmp = inp\n",
    "        for mod_name, module in self._modules.items():\n",
    "            if mod_name == 'mu':\n",
    "                mu = module(tmp)\n",
    "            elif mod_name == 'logvar':\n",
    "                logvar = module(tmp)\n",
    "            elif mod_name == 'enc_linear_1':\n",
    "                tmp = module(torch.flatten(tmp, start_dim=1))\n",
    "            else:\n",
    "                tmp = module(tmp)\n",
    "        return mu, logvar"
   ]
  },
  {
   "cell_type": "code",
   "execution_count": 7,
   "metadata": {},
   "outputs": [],
   "source": [
    "class Decoder(nn.Module):\n",
    "\n",
    "    def __init__(self):\n",
    "        super(Decoder, self).__init__()\n",
    "        self.create_network()\n",
    "\n",
    "    def create_network(self):\n",
    "        \n",
    "        # fully-connected part\n",
    "        for i in range(1, len(DEC_DENSE_LAYER_SIZES)):\n",
    "            self.add_module(f\"dec_linear_{i}\", nn.Linear(DEC_DENSE_LAYER_SIZES[i - 1],\n",
    "                                                         DEC_DENSE_LAYER_SIZES[i], bias=True))\n",
    "            self.add_module(f\"dec_linear_activitation_{i}\", nn.ReLU())\n",
    "            \n",
    "        # convolutional part\n",
    "        for i in range(1, len(DEC_CONV_LAYER_CHANNELS)):\n",
    "            if i == len(DEC_CONV_LAYER_CHANNELS) - 1:\n",
    "                self.add_module(f\"dec_conv_{i}\", nn.ConvTranspose2d(DEC_CONV_LAYER_CHANNELS[i - 1],\n",
    "                                                                    DEC_CONV_LAYER_CHANNELS[i],\n",
    "                                                                    KERNEL_SIZE, STRIDE))\n",
    "            else:\n",
    "                self.add_module(f\"dec_conv_{i}\", nn.ConvTranspose2d(DEC_CONV_LAYER_CHANNELS[i - 1],\n",
    "                                                                    DEC_CONV_LAYER_CHANNELS[i],\n",
    "                                                                    KERNEL_SIZE, STRIDE, output_padding=1))\n",
    "                self.add_module(f\"dec_conv_activitation_{i}\", nn.ReLU())\n",
    "            \n",
    "    def forward(self, inp):\n",
    "        tmp = inp\n",
    "        for mod_name, module in self._modules.items():\n",
    "            if mod_name == 'dec_conv_1':\n",
    "                tmp = tmp.view([-1, ENC_CONV_LAYER_CHANNELS[-1], SINGLE_DIM_AFTER_CONV, SINGLE_DIM_AFTER_CONV])\n",
    "            tmp = module(tmp)\n",
    "        return tmp"
   ]
  },
  {
   "cell_type": "code",
   "execution_count": 8,
   "metadata": {},
   "outputs": [],
   "source": [
    "class DigitClassifier(nn.Module):\n",
    "\n",
    "    def __init__(self):\n",
    "        super(DigitClassifier, self).__init__()\n",
    "        self.create_network()\n",
    "\n",
    "    def create_network(self):\n",
    "        for i in range(1, len(DIGIT_LAYER_SIZES)):\n",
    "            if i == len(DIGIT_LAYER_SIZES) - 1:\n",
    "                self.add_module(f\"clf_linear_{i}\", nn.Linear(DIGIT_LAYER_SIZES[i - 1],\n",
    "                                                             DIGIT_LAYER_SIZES[i], bias=True))\n",
    "                self.add_module(\"clf_out\", nn.LogSoftmax(dim=1))\n",
    "            else:\n",
    "                self.add_module(f\"clf_linear_{i}\", nn.Linear(DIGIT_LAYER_SIZES[i - 1],\n",
    "                                                             DIGIT_LAYER_SIZES[i], bias=True))\n",
    "                self.add_module(f\"clf_activitation_{i}\", nn.ReLU())\n",
    "\n",
    "    def forward(self, inp):\n",
    "        tmp = inp\n",
    "        for mod_name, module in self._modules.items():\n",
    "            tmp = module(tmp)\n",
    "        return tmp"
   ]
  },
  {
   "cell_type": "code",
   "execution_count": 9,
   "metadata": {},
   "outputs": [],
   "source": [
    "class ThicknessModel(nn.Module):\n",
    "\n",
    "    def __init__(self):\n",
    "        super(ThicknessModel, self).__init__()\n",
    "        self.create_network()\n",
    "\n",
    "    def create_network(self):\n",
    "        for i in range(1, len(THICKNESS_LAYER_SIZES)):\n",
    "            if i == len(THICKNESS_LAYER_SIZES) - 1:\n",
    "                self.add_module(f\"clf_t_linear_{i}\", nn.Linear(THICKNESS_LAYER_SIZES[i - 1],\n",
    "                                                               THICKNESS_LAYER_SIZES[i], bias=True))\n",
    "            else:\n",
    "                self.add_module(f\"clf_t_linear_{i}\", nn.Linear(THICKNESS_LAYER_SIZES[i - 1],\n",
    "                                                               THICKNESS_LAYER_SIZES[i], bias=True))\n",
    "                self.add_module(f\"clf_t_activitation_{i}\", nn.ReLU())\n",
    "\n",
    "    def forward(self, inp):\n",
    "        tmp = inp\n",
    "        for mod_name, module in self._modules.items():\n",
    "            tmp = module(tmp)\n",
    "        return tmp"
   ]
  },
  {
   "cell_type": "code",
   "execution_count": 10,
   "metadata": {},
   "outputs": [],
   "source": [
    "class BetaKLDLoss:\n",
    "    \n",
    "    def __init__(self, beta):\n",
    "        self.beta = beta    \n",
    "        \n",
    "    def __call__(self, mu, logvar):\n",
    "        kld = - 0.5 * torch.sum(1 + logvar - mu.pow(2) - logvar.exp())\n",
    "        return self.beta * kld"
   ]
  },
  {
   "cell_type": "code",
   "execution_count": 11,
   "metadata": {},
   "outputs": [],
   "source": [
    "def accuracy(ref, pred):\n",
    "    return accuracy_score(ref, torch.argmax(pred, 1))\n",
    "\n",
    "def l2_reconstruction_error(ref, pred):\n",
    "    return mean_squared_error(torch.flatten(ref), torch.flatten(pred))    "
   ]
  },
  {
   "cell_type": "code",
   "execution_count": 12,
   "metadata": {},
   "outputs": [],
   "source": [
    "class VAE(nn.Module):\n",
    "    \n",
    "    def __init__(self):\n",
    "        super(VAE, self).__init__()\n",
    "        self.encoder = VariationalEncoder()\n",
    "        self.decoder = Decoder()\n",
    "        self.classifier = DigitClassifier()\n",
    "        self.thickness_model = ThicknessModel()\n",
    "        \n",
    "        self.clf_loss = nn.NLLLoss()\n",
    "        self.t_loss = nn.MSELoss()\n",
    "        self.dec_loss = nn.MSELoss()\n",
    "        self.kld_loss = BetaKLDLoss(beta=KLD_BETA)\n",
    "\n",
    "    def forward(self, inp):\n",
    "        mu, logvar = self.encoder(inp)\n",
    "        emb = self._reparameterize(mu, logvar)\n",
    "        inp_hat = self.decoder(emb)\n",
    "        t_hat = self.thickness_model(emb)\n",
    "        y_hat = self.classifier(emb)\n",
    "        return inp_hat, y_hat, t_hat, mu, logvar\n",
    "        \n",
    "    def _reparameterize(self, mu, logvar):\n",
    "        std = torch.exp(0.5 * logvar)\n",
    "        eps = torch.randn_like(std)\n",
    "        return mu + eps * std\n",
    "    \n",
    "    def train_(self, train_data_loader):\n",
    "        \n",
    "        trainable_params = list(self.encoder.parameters()) + list(self.decoder.parameters()) \\\n",
    "                            + list(self.classifier.parameters()) + list(self.thickness_model.parameters())\n",
    "        optimizer = OPTIMIZER(trainable_params, INIT_LR)\n",
    "        scheduler = StepLR(optimizer, step_size=LR_DECAY_STEPS, gamma=LR_DECAY_GAMMA)\n",
    "        \n",
    "        for epoch in range(1, NUM_EPOCHS + 1):\n",
    "            for inp_batch, y_batch, t_batch in tqdm(train_data_loader):\n",
    "                self.train()\n",
    "                optimizer.zero_grad()\n",
    "                inp_hat_batch, y_hat_batch, t_hat_batch, mu, logvar = self.forward(inp_batch)\n",
    "                total_loss = self.clf_loss(y_hat_batch, y_batch) + \\\n",
    "                             self.dec_loss(inp_hat_batch, inp_batch) + \\\n",
    "                             self.t_loss(torch.squeeze(t_hat_batch), t_batch) + \\\n",
    "                             self.kld_loss(mu, logvar)\n",
    "                total_loss.backward()\n",
    "                optimizer.step()\n",
    "            scheduler.step()\n",
    "\n",
    "    def eval_(self, test_data_loader):\n",
    "        with torch.no_grad():\n",
    "            inp_batch, y_batch, t_batch = next(iter(test_data_loader))            \n",
    "            inp_hat_batch, y_hat_batch, t_hat_batch,  _, _ = self.forward(inp_batch)\n",
    "            t_error = mean_absolute_error(t_batch, t_hat_batch)\n",
    "            acc = accuracy(y_batch, y_hat_batch)\n",
    "            rec_err = l2_reconstruction_error(inp_batch, inp_hat_batch)\n",
    "            print(f\"The mean classification accuracy is {acc}.\")\n",
    "            print(f\"The mean reconstruction error is {rec_err}.\")\n",
    "            print(f\"The mean absolute thickness error is {t_error}.\")"
   ]
  },
  {
   "cell_type": "markdown",
   "metadata": {},
   "source": [
    "## Training"
   ]
  },
  {
   "cell_type": "code",
   "execution_count": 13,
   "metadata": {},
   "outputs": [
    {
     "data": {
      "application/vnd.jupyter.widget-view+json": {
       "model_id": "0fee4f1132ab496398ce501661007f77",
       "version_major": 2,
       "version_minor": 0
      },
      "text/plain": [
       "HBox(children=(FloatProgress(value=0.0, max=60000.0), HTML(value='')))"
      ]
     },
     "metadata": {},
     "output_type": "display_data"
    },
    {
     "name": "stdout",
     "output_type": "stream",
     "text": [
      "\n"
     ]
    },
    {
     "data": {
      "application/vnd.jupyter.widget-view+json": {
       "model_id": "dbfa8058c05542e686f320f08cf6de17",
       "version_major": 2,
       "version_minor": 0
      },
      "text/plain": [
       "HBox(children=(FloatProgress(value=0.0, max=10000.0), HTML(value='')))"
      ]
     },
     "metadata": {},
     "output_type": "display_data"
    },
    {
     "name": "stdout",
     "output_type": "stream",
     "text": [
      "\n"
     ]
    }
   ],
   "source": [
    "train_set, test_set = load_data()"
   ]
  },
  {
   "cell_type": "code",
   "execution_count": 14,
   "metadata": {
    "scrolled": true
   },
   "outputs": [
    {
     "data": {
      "application/vnd.jupyter.widget-view+json": {
       "model_id": "d7fd427854b5473bb13b0cdbdd94fd96",
       "version_major": 2,
       "version_minor": 0
      },
      "text/plain": [
       "HBox(children=(FloatProgress(value=0.0, max=118.0), HTML(value='')))"
      ]
     },
     "metadata": {},
     "output_type": "display_data"
    },
    {
     "name": "stdout",
     "output_type": "stream",
     "text": [
      "\n"
     ]
    },
    {
     "data": {
      "application/vnd.jupyter.widget-view+json": {
       "model_id": "e2b5f0c3031f438cb35471c1dc79d053",
       "version_major": 2,
       "version_minor": 0
      },
      "text/plain": [
       "HBox(children=(FloatProgress(value=0.0, max=118.0), HTML(value='')))"
      ]
     },
     "metadata": {},
     "output_type": "display_data"
    },
    {
     "name": "stdout",
     "output_type": "stream",
     "text": [
      "\n"
     ]
    },
    {
     "data": {
      "application/vnd.jupyter.widget-view+json": {
       "model_id": "e374e32292a547e5a949e0a5e6e14ffa",
       "version_major": 2,
       "version_minor": 0
      },
      "text/plain": [
       "HBox(children=(FloatProgress(value=0.0, max=118.0), HTML(value='')))"
      ]
     },
     "metadata": {},
     "output_type": "display_data"
    },
    {
     "name": "stdout",
     "output_type": "stream",
     "text": [
      "\n"
     ]
    },
    {
     "data": {
      "application/vnd.jupyter.widget-view+json": {
       "model_id": "31055badd1b14c32b3a825c059bb7b61",
       "version_major": 2,
       "version_minor": 0
      },
      "text/plain": [
       "HBox(children=(FloatProgress(value=0.0, max=118.0), HTML(value='')))"
      ]
     },
     "metadata": {},
     "output_type": "display_data"
    },
    {
     "name": "stdout",
     "output_type": "stream",
     "text": [
      "\n"
     ]
    },
    {
     "data": {
      "application/vnd.jupyter.widget-view+json": {
       "model_id": "e79c61ece2ef40a0994584ada6a38ba6",
       "version_major": 2,
       "version_minor": 0
      },
      "text/plain": [
       "HBox(children=(FloatProgress(value=0.0, max=118.0), HTML(value='')))"
      ]
     },
     "metadata": {},
     "output_type": "display_data"
    },
    {
     "name": "stdout",
     "output_type": "stream",
     "text": [
      "\n"
     ]
    },
    {
     "data": {
      "application/vnd.jupyter.widget-view+json": {
       "model_id": "1bb000104c004c6f8f2d926bdc91dff4",
       "version_major": 2,
       "version_minor": 0
      },
      "text/plain": [
       "HBox(children=(FloatProgress(value=0.0, max=118.0), HTML(value='')))"
      ]
     },
     "metadata": {},
     "output_type": "display_data"
    },
    {
     "name": "stdout",
     "output_type": "stream",
     "text": [
      "\n"
     ]
    },
    {
     "data": {
      "application/vnd.jupyter.widget-view+json": {
       "model_id": "7b0e7e65fffe4fd08c57e45c8f578d1b",
       "version_major": 2,
       "version_minor": 0
      },
      "text/plain": [
       "HBox(children=(FloatProgress(value=0.0, max=118.0), HTML(value='')))"
      ]
     },
     "metadata": {},
     "output_type": "display_data"
    },
    {
     "name": "stdout",
     "output_type": "stream",
     "text": [
      "\n"
     ]
    },
    {
     "data": {
      "application/vnd.jupyter.widget-view+json": {
       "model_id": "563ccde7c1384e62ba16b8f20a61e6c8",
       "version_major": 2,
       "version_minor": 0
      },
      "text/plain": [
       "HBox(children=(FloatProgress(value=0.0, max=118.0), HTML(value='')))"
      ]
     },
     "metadata": {},
     "output_type": "display_data"
    },
    {
     "name": "stdout",
     "output_type": "stream",
     "text": [
      "\n"
     ]
    },
    {
     "data": {
      "application/vnd.jupyter.widget-view+json": {
       "model_id": "92e054f3c5fa447fb9a6970351ec11d1",
       "version_major": 2,
       "version_minor": 0
      },
      "text/plain": [
       "HBox(children=(FloatProgress(value=0.0, max=118.0), HTML(value='')))"
      ]
     },
     "metadata": {},
     "output_type": "display_data"
    },
    {
     "name": "stdout",
     "output_type": "stream",
     "text": [
      "\n"
     ]
    },
    {
     "data": {
      "application/vnd.jupyter.widget-view+json": {
       "model_id": "acd6a76500b743b48a174d170246f4c5",
       "version_major": 2,
       "version_minor": 0
      },
      "text/plain": [
       "HBox(children=(FloatProgress(value=0.0, max=118.0), HTML(value='')))"
      ]
     },
     "metadata": {},
     "output_type": "display_data"
    },
    {
     "name": "stdout",
     "output_type": "stream",
     "text": [
      "\n"
     ]
    },
    {
     "data": {
      "application/vnd.jupyter.widget-view+json": {
       "model_id": "8dfeacc4d9f5488c9c57736923a3d582",
       "version_major": 2,
       "version_minor": 0
      },
      "text/plain": [
       "HBox(children=(FloatProgress(value=0.0, max=118.0), HTML(value='')))"
      ]
     },
     "metadata": {},
     "output_type": "display_data"
    },
    {
     "name": "stdout",
     "output_type": "stream",
     "text": [
      "\n"
     ]
    },
    {
     "data": {
      "application/vnd.jupyter.widget-view+json": {
       "model_id": "277baabc869c46dc81bcbea4d1149d24",
       "version_major": 2,
       "version_minor": 0
      },
      "text/plain": [
       "HBox(children=(FloatProgress(value=0.0, max=118.0), HTML(value='')))"
      ]
     },
     "metadata": {},
     "output_type": "display_data"
    },
    {
     "name": "stdout",
     "output_type": "stream",
     "text": [
      "\n"
     ]
    },
    {
     "data": {
      "application/vnd.jupyter.widget-view+json": {
       "model_id": "b8b3ed39839d454f8841fd6ffef1f6f5",
       "version_major": 2,
       "version_minor": 0
      },
      "text/plain": [
       "HBox(children=(FloatProgress(value=0.0, max=118.0), HTML(value='')))"
      ]
     },
     "metadata": {},
     "output_type": "display_data"
    },
    {
     "name": "stdout",
     "output_type": "stream",
     "text": [
      "\n"
     ]
    },
    {
     "data": {
      "application/vnd.jupyter.widget-view+json": {
       "model_id": "7fd1657c2de44b64bae37958b2ef6f30",
       "version_major": 2,
       "version_minor": 0
      },
      "text/plain": [
       "HBox(children=(FloatProgress(value=0.0, max=118.0), HTML(value='')))"
      ]
     },
     "metadata": {},
     "output_type": "display_data"
    },
    {
     "name": "stdout",
     "output_type": "stream",
     "text": [
      "\n"
     ]
    },
    {
     "data": {
      "application/vnd.jupyter.widget-view+json": {
       "model_id": "57c2d30ca0a347728e6ab0e0c0406c67",
       "version_major": 2,
       "version_minor": 0
      },
      "text/plain": [
       "HBox(children=(FloatProgress(value=0.0, max=118.0), HTML(value='')))"
      ]
     },
     "metadata": {},
     "output_type": "display_data"
    },
    {
     "name": "stdout",
     "output_type": "stream",
     "text": [
      "\n"
     ]
    },
    {
     "data": {
      "application/vnd.jupyter.widget-view+json": {
       "model_id": "f4e632d6bfd34f73ba91c72e49ecfc21",
       "version_major": 2,
       "version_minor": 0
      },
      "text/plain": [
       "HBox(children=(FloatProgress(value=0.0, max=118.0), HTML(value='')))"
      ]
     },
     "metadata": {},
     "output_type": "display_data"
    },
    {
     "name": "stdout",
     "output_type": "stream",
     "text": [
      "\n"
     ]
    },
    {
     "data": {
      "application/vnd.jupyter.widget-view+json": {
       "model_id": "5ac2dd7b5a0a434bbe6f1bd0b4b5d466",
       "version_major": 2,
       "version_minor": 0
      },
      "text/plain": [
       "HBox(children=(FloatProgress(value=0.0, max=118.0), HTML(value='')))"
      ]
     },
     "metadata": {},
     "output_type": "display_data"
    },
    {
     "name": "stdout",
     "output_type": "stream",
     "text": [
      "\n"
     ]
    },
    {
     "data": {
      "application/vnd.jupyter.widget-view+json": {
       "model_id": "726b745851c14cd88d8bc864f7b0a1e8",
       "version_major": 2,
       "version_minor": 0
      },
      "text/plain": [
       "HBox(children=(FloatProgress(value=0.0, max=118.0), HTML(value='')))"
      ]
     },
     "metadata": {},
     "output_type": "display_data"
    },
    {
     "name": "stdout",
     "output_type": "stream",
     "text": [
      "\n"
     ]
    },
    {
     "data": {
      "application/vnd.jupyter.widget-view+json": {
       "model_id": "926b20f286f04fc59f907891fb718590",
       "version_major": 2,
       "version_minor": 0
      },
      "text/plain": [
       "HBox(children=(FloatProgress(value=0.0, max=118.0), HTML(value='')))"
      ]
     },
     "metadata": {},
     "output_type": "display_data"
    },
    {
     "name": "stdout",
     "output_type": "stream",
     "text": [
      "\n"
     ]
    },
    {
     "data": {
      "application/vnd.jupyter.widget-view+json": {
       "model_id": "67ddaf1e6373420ea3cafc7bc19009a1",
       "version_major": 2,
       "version_minor": 0
      },
      "text/plain": [
       "HBox(children=(FloatProgress(value=0.0, max=118.0), HTML(value='')))"
      ]
     },
     "metadata": {},
     "output_type": "display_data"
    },
    {
     "name": "stdout",
     "output_type": "stream",
     "text": [
      "\n"
     ]
    },
    {
     "data": {
      "application/vnd.jupyter.widget-view+json": {
       "model_id": "001d11f074444f30b99b3ea248a8236e",
       "version_major": 2,
       "version_minor": 0
      },
      "text/plain": [
       "HBox(children=(FloatProgress(value=0.0, max=118.0), HTML(value='')))"
      ]
     },
     "metadata": {},
     "output_type": "display_data"
    },
    {
     "name": "stdout",
     "output_type": "stream",
     "text": [
      "\n"
     ]
    },
    {
     "data": {
      "application/vnd.jupyter.widget-view+json": {
       "model_id": "447d012cffa34f64b91f6720892431fe",
       "version_major": 2,
       "version_minor": 0
      },
      "text/plain": [
       "HBox(children=(FloatProgress(value=0.0, max=118.0), HTML(value='')))"
      ]
     },
     "metadata": {},
     "output_type": "display_data"
    },
    {
     "name": "stdout",
     "output_type": "stream",
     "text": [
      "\n"
     ]
    },
    {
     "data": {
      "application/vnd.jupyter.widget-view+json": {
       "model_id": "d8f7087d44db4fba8a4dcbdee3223233",
       "version_major": 2,
       "version_minor": 0
      },
      "text/plain": [
       "HBox(children=(FloatProgress(value=0.0, max=118.0), HTML(value='')))"
      ]
     },
     "metadata": {},
     "output_type": "display_data"
    },
    {
     "name": "stdout",
     "output_type": "stream",
     "text": [
      "\n"
     ]
    },
    {
     "data": {
      "application/vnd.jupyter.widget-view+json": {
       "model_id": "f01d1ef3536f4a80a851232bb605664c",
       "version_major": 2,
       "version_minor": 0
      },
      "text/plain": [
       "HBox(children=(FloatProgress(value=0.0, max=118.0), HTML(value='')))"
      ]
     },
     "metadata": {},
     "output_type": "display_data"
    },
    {
     "name": "stdout",
     "output_type": "stream",
     "text": [
      "\n"
     ]
    },
    {
     "data": {
      "application/vnd.jupyter.widget-view+json": {
       "model_id": "027caa2ea8984934b0a9db6ec9bee53a",
       "version_major": 2,
       "version_minor": 0
      },
      "text/plain": [
       "HBox(children=(FloatProgress(value=0.0, max=118.0), HTML(value='')))"
      ]
     },
     "metadata": {},
     "output_type": "display_data"
    },
    {
     "name": "stdout",
     "output_type": "stream",
     "text": [
      "\n"
     ]
    },
    {
     "data": {
      "application/vnd.jupyter.widget-view+json": {
       "model_id": "aea69b3bda4944e9857ec23088981534",
       "version_major": 2,
       "version_minor": 0
      },
      "text/plain": [
       "HBox(children=(FloatProgress(value=0.0, max=118.0), HTML(value='')))"
      ]
     },
     "metadata": {},
     "output_type": "display_data"
    },
    {
     "name": "stdout",
     "output_type": "stream",
     "text": [
      "\n"
     ]
    },
    {
     "data": {
      "application/vnd.jupyter.widget-view+json": {
       "model_id": "647d01d803844c0cb81fb400231d3296",
       "version_major": 2,
       "version_minor": 0
      },
      "text/plain": [
       "HBox(children=(FloatProgress(value=0.0, max=118.0), HTML(value='')))"
      ]
     },
     "metadata": {},
     "output_type": "display_data"
    },
    {
     "name": "stdout",
     "output_type": "stream",
     "text": [
      "\n"
     ]
    },
    {
     "data": {
      "application/vnd.jupyter.widget-view+json": {
       "model_id": "b8f8228c8bc34590a415c945aad4450b",
       "version_major": 2,
       "version_minor": 0
      },
      "text/plain": [
       "HBox(children=(FloatProgress(value=0.0, max=118.0), HTML(value='')))"
      ]
     },
     "metadata": {},
     "output_type": "display_data"
    },
    {
     "name": "stdout",
     "output_type": "stream",
     "text": [
      "\n"
     ]
    },
    {
     "data": {
      "application/vnd.jupyter.widget-view+json": {
       "model_id": "53821626f10c49b38fa82d03c50fd35b",
       "version_major": 2,
       "version_minor": 0
      },
      "text/plain": [
       "HBox(children=(FloatProgress(value=0.0, max=118.0), HTML(value='')))"
      ]
     },
     "metadata": {},
     "output_type": "display_data"
    },
    {
     "name": "stdout",
     "output_type": "stream",
     "text": [
      "\n"
     ]
    },
    {
     "data": {
      "application/vnd.jupyter.widget-view+json": {
       "model_id": "7c8f5ccd7aaa4cacbb6784061e0a6dd9",
       "version_major": 2,
       "version_minor": 0
      },
      "text/plain": [
       "HBox(children=(FloatProgress(value=0.0, max=118.0), HTML(value='')))"
      ]
     },
     "metadata": {},
     "output_type": "display_data"
    },
    {
     "name": "stdout",
     "output_type": "stream",
     "text": [
      "\n"
     ]
    },
    {
     "data": {
      "application/vnd.jupyter.widget-view+json": {
       "model_id": "8681b5d0d22148fcb91f7a6f2aea57bf",
       "version_major": 2,
       "version_minor": 0
      },
      "text/plain": [
       "HBox(children=(FloatProgress(value=0.0, max=118.0), HTML(value='')))"
      ]
     },
     "metadata": {},
     "output_type": "display_data"
    },
    {
     "name": "stdout",
     "output_type": "stream",
     "text": [
      "\n"
     ]
    },
    {
     "data": {
      "application/vnd.jupyter.widget-view+json": {
       "model_id": "1cb4717951c84db1b9574558256ec88e",
       "version_major": 2,
       "version_minor": 0
      },
      "text/plain": [
       "HBox(children=(FloatProgress(value=0.0, max=118.0), HTML(value='')))"
      ]
     },
     "metadata": {},
     "output_type": "display_data"
    },
    {
     "name": "stdout",
     "output_type": "stream",
     "text": [
      "\n"
     ]
    },
    {
     "data": {
      "application/vnd.jupyter.widget-view+json": {
       "model_id": "2b371c47d78f4e32a9909e2c591c0ed0",
       "version_major": 2,
       "version_minor": 0
      },
      "text/plain": [
       "HBox(children=(FloatProgress(value=0.0, max=118.0), HTML(value='')))"
      ]
     },
     "metadata": {},
     "output_type": "display_data"
    },
    {
     "name": "stdout",
     "output_type": "stream",
     "text": [
      "\n"
     ]
    },
    {
     "data": {
      "application/vnd.jupyter.widget-view+json": {
       "model_id": "9a2bee9494c74744b7b088d525f19c2e",
       "version_major": 2,
       "version_minor": 0
      },
      "text/plain": [
       "HBox(children=(FloatProgress(value=0.0, max=118.0), HTML(value='')))"
      ]
     },
     "metadata": {},
     "output_type": "display_data"
    },
    {
     "name": "stdout",
     "output_type": "stream",
     "text": [
      "\n"
     ]
    },
    {
     "data": {
      "application/vnd.jupyter.widget-view+json": {
       "model_id": "2fed8b6c99b94ebeb5ea518acb60e74b",
       "version_major": 2,
       "version_minor": 0
      },
      "text/plain": [
       "HBox(children=(FloatProgress(value=0.0, max=118.0), HTML(value='')))"
      ]
     },
     "metadata": {},
     "output_type": "display_data"
    },
    {
     "name": "stdout",
     "output_type": "stream",
     "text": [
      "\n"
     ]
    },
    {
     "data": {
      "application/vnd.jupyter.widget-view+json": {
       "model_id": "1b700e15565c4361abd3b27d7d72e129",
       "version_major": 2,
       "version_minor": 0
      },
      "text/plain": [
       "HBox(children=(FloatProgress(value=0.0, max=118.0), HTML(value='')))"
      ]
     },
     "metadata": {},
     "output_type": "display_data"
    },
    {
     "name": "stdout",
     "output_type": "stream",
     "text": [
      "\n"
     ]
    },
    {
     "data": {
      "application/vnd.jupyter.widget-view+json": {
       "model_id": "924746d93cb54b33976ea08116712ee4",
       "version_major": 2,
       "version_minor": 0
      },
      "text/plain": [
       "HBox(children=(FloatProgress(value=0.0, max=118.0), HTML(value='')))"
      ]
     },
     "metadata": {},
     "output_type": "display_data"
    },
    {
     "name": "stdout",
     "output_type": "stream",
     "text": [
      "\n"
     ]
    },
    {
     "data": {
      "application/vnd.jupyter.widget-view+json": {
       "model_id": "4433079af001467b9a25eab858fbfb4c",
       "version_major": 2,
       "version_minor": 0
      },
      "text/plain": [
       "HBox(children=(FloatProgress(value=0.0, max=118.0), HTML(value='')))"
      ]
     },
     "metadata": {},
     "output_type": "display_data"
    },
    {
     "name": "stdout",
     "output_type": "stream",
     "text": [
      "\n"
     ]
    },
    {
     "data": {
      "application/vnd.jupyter.widget-view+json": {
       "model_id": "95dd9a2059b84220a920d7625271cfb4",
       "version_major": 2,
       "version_minor": 0
      },
      "text/plain": [
       "HBox(children=(FloatProgress(value=0.0, max=118.0), HTML(value='')))"
      ]
     },
     "metadata": {},
     "output_type": "display_data"
    },
    {
     "name": "stdout",
     "output_type": "stream",
     "text": [
      "\n"
     ]
    },
    {
     "data": {
      "application/vnd.jupyter.widget-view+json": {
       "model_id": "42267a1c3a8b40eaab18d4e46d9d1009",
       "version_major": 2,
       "version_minor": 0
      },
      "text/plain": [
       "HBox(children=(FloatProgress(value=0.0, max=118.0), HTML(value='')))"
      ]
     },
     "metadata": {},
     "output_type": "display_data"
    },
    {
     "name": "stdout",
     "output_type": "stream",
     "text": [
      "\n"
     ]
    },
    {
     "data": {
      "application/vnd.jupyter.widget-view+json": {
       "model_id": "63f0cb619f5c4e2b98d872c4af1efca2",
       "version_major": 2,
       "version_minor": 0
      },
      "text/plain": [
       "HBox(children=(FloatProgress(value=0.0, max=118.0), HTML(value='')))"
      ]
     },
     "metadata": {},
     "output_type": "display_data"
    },
    {
     "name": "stdout",
     "output_type": "stream",
     "text": [
      "\n"
     ]
    },
    {
     "data": {
      "application/vnd.jupyter.widget-view+json": {
       "model_id": "22c4244aa0aa4e048e7e9a91f8e9be35",
       "version_major": 2,
       "version_minor": 0
      },
      "text/plain": [
       "HBox(children=(FloatProgress(value=0.0, max=118.0), HTML(value='')))"
      ]
     },
     "metadata": {},
     "output_type": "display_data"
    },
    {
     "name": "stdout",
     "output_type": "stream",
     "text": [
      "\n"
     ]
    },
    {
     "data": {
      "application/vnd.jupyter.widget-view+json": {
       "model_id": "354d2b741aaa461689233b5b21ac958f",
       "version_major": 2,
       "version_minor": 0
      },
      "text/plain": [
       "HBox(children=(FloatProgress(value=0.0, max=118.0), HTML(value='')))"
      ]
     },
     "metadata": {},
     "output_type": "display_data"
    },
    {
     "name": "stdout",
     "output_type": "stream",
     "text": [
      "\n"
     ]
    },
    {
     "data": {
      "application/vnd.jupyter.widget-view+json": {
       "model_id": "366fe9349f354f22b6a5a430711b210d",
       "version_major": 2,
       "version_minor": 0
      },
      "text/plain": [
       "HBox(children=(FloatProgress(value=0.0, max=118.0), HTML(value='')))"
      ]
     },
     "metadata": {},
     "output_type": "display_data"
    },
    {
     "name": "stdout",
     "output_type": "stream",
     "text": [
      "\n"
     ]
    },
    {
     "data": {
      "application/vnd.jupyter.widget-view+json": {
       "model_id": "463be90344e146ab9fc80aeb265c7452",
       "version_major": 2,
       "version_minor": 0
      },
      "text/plain": [
       "HBox(children=(FloatProgress(value=0.0, max=118.0), HTML(value='')))"
      ]
     },
     "metadata": {},
     "output_type": "display_data"
    },
    {
     "name": "stdout",
     "output_type": "stream",
     "text": [
      "\n"
     ]
    },
    {
     "data": {
      "application/vnd.jupyter.widget-view+json": {
       "model_id": "0a92315f6dc2445f83f45f5b54c15fe4",
       "version_major": 2,
       "version_minor": 0
      },
      "text/plain": [
       "HBox(children=(FloatProgress(value=0.0, max=118.0), HTML(value='')))"
      ]
     },
     "metadata": {},
     "output_type": "display_data"
    },
    {
     "name": "stdout",
     "output_type": "stream",
     "text": [
      "\n"
     ]
    },
    {
     "data": {
      "application/vnd.jupyter.widget-view+json": {
       "model_id": "7315133546fd437eadc97742350ca39a",
       "version_major": 2,
       "version_minor": 0
      },
      "text/plain": [
       "HBox(children=(FloatProgress(value=0.0, max=118.0), HTML(value='')))"
      ]
     },
     "metadata": {},
     "output_type": "display_data"
    },
    {
     "name": "stdout",
     "output_type": "stream",
     "text": [
      "\n"
     ]
    },
    {
     "data": {
      "application/vnd.jupyter.widget-view+json": {
       "model_id": "999cd1579ab14b4480ba5bf2a484c700",
       "version_major": 2,
       "version_minor": 0
      },
      "text/plain": [
       "HBox(children=(FloatProgress(value=0.0, max=118.0), HTML(value='')))"
      ]
     },
     "metadata": {},
     "output_type": "display_data"
    },
    {
     "name": "stdout",
     "output_type": "stream",
     "text": [
      "\n"
     ]
    },
    {
     "data": {
      "application/vnd.jupyter.widget-view+json": {
       "model_id": "dae7bdf235004cf5b8fd694ee345e5fd",
       "version_major": 2,
       "version_minor": 0
      },
      "text/plain": [
       "HBox(children=(FloatProgress(value=0.0, max=118.0), HTML(value='')))"
      ]
     },
     "metadata": {},
     "output_type": "display_data"
    },
    {
     "name": "stdout",
     "output_type": "stream",
     "text": [
      "\n"
     ]
    },
    {
     "data": {
      "application/vnd.jupyter.widget-view+json": {
       "model_id": "914eabf20fd84113af80e13f9272e2f5",
       "version_major": 2,
       "version_minor": 0
      },
      "text/plain": [
       "HBox(children=(FloatProgress(value=0.0, max=118.0), HTML(value='')))"
      ]
     },
     "metadata": {},
     "output_type": "display_data"
    },
    {
     "name": "stdout",
     "output_type": "stream",
     "text": [
      "\n"
     ]
    },
    {
     "data": {
      "application/vnd.jupyter.widget-view+json": {
       "model_id": "002f853a223343119e8b14d9edc6d5e8",
       "version_major": 2,
       "version_minor": 0
      },
      "text/plain": [
       "HBox(children=(FloatProgress(value=0.0, max=118.0), HTML(value='')))"
      ]
     },
     "metadata": {},
     "output_type": "display_data"
    },
    {
     "name": "stdout",
     "output_type": "stream",
     "text": [
      "\n"
     ]
    },
    {
     "data": {
      "application/vnd.jupyter.widget-view+json": {
       "model_id": "ef9db25b89a34ca2960dc288331769b2",
       "version_major": 2,
       "version_minor": 0
      },
      "text/plain": [
       "HBox(children=(FloatProgress(value=0.0, max=118.0), HTML(value='')))"
      ]
     },
     "metadata": {},
     "output_type": "display_data"
    },
    {
     "name": "stdout",
     "output_type": "stream",
     "text": [
      "\n"
     ]
    },
    {
     "data": {
      "application/vnd.jupyter.widget-view+json": {
       "model_id": "1f116d64bf4640d69ce6c97cf6db2ef5",
       "version_major": 2,
       "version_minor": 0
      },
      "text/plain": [
       "HBox(children=(FloatProgress(value=0.0, max=118.0), HTML(value='')))"
      ]
     },
     "metadata": {},
     "output_type": "display_data"
    },
    {
     "name": "stdout",
     "output_type": "stream",
     "text": [
      "\n"
     ]
    },
    {
     "data": {
      "application/vnd.jupyter.widget-view+json": {
       "model_id": "e2f0ca8460de4cbaa1b55d1d1c9a009e",
       "version_major": 2,
       "version_minor": 0
      },
      "text/plain": [
       "HBox(children=(FloatProgress(value=0.0, max=118.0), HTML(value='')))"
      ]
     },
     "metadata": {},
     "output_type": "display_data"
    },
    {
     "name": "stdout",
     "output_type": "stream",
     "text": [
      "\n"
     ]
    },
    {
     "data": {
      "application/vnd.jupyter.widget-view+json": {
       "model_id": "9911bc9819c940a3bd54330827cf1ae3",
       "version_major": 2,
       "version_minor": 0
      },
      "text/plain": [
       "HBox(children=(FloatProgress(value=0.0, max=118.0), HTML(value='')))"
      ]
     },
     "metadata": {},
     "output_type": "display_data"
    },
    {
     "name": "stdout",
     "output_type": "stream",
     "text": [
      "\n"
     ]
    },
    {
     "data": {
      "application/vnd.jupyter.widget-view+json": {
       "model_id": "7934a6b179374a2b8c1672820286d916",
       "version_major": 2,
       "version_minor": 0
      },
      "text/plain": [
       "HBox(children=(FloatProgress(value=0.0, max=118.0), HTML(value='')))"
      ]
     },
     "metadata": {},
     "output_type": "display_data"
    },
    {
     "name": "stdout",
     "output_type": "stream",
     "text": [
      "\n"
     ]
    },
    {
     "data": {
      "application/vnd.jupyter.widget-view+json": {
       "model_id": "61a06a008916444683c7a36a1e3397f9",
       "version_major": 2,
       "version_minor": 0
      },
      "text/plain": [
       "HBox(children=(FloatProgress(value=0.0, max=118.0), HTML(value='')))"
      ]
     },
     "metadata": {},
     "output_type": "display_data"
    },
    {
     "name": "stdout",
     "output_type": "stream",
     "text": [
      "\n"
     ]
    },
    {
     "data": {
      "application/vnd.jupyter.widget-view+json": {
       "model_id": "fb0aefd7a4fa4f0ebb37263acfa9766b",
       "version_major": 2,
       "version_minor": 0
      },
      "text/plain": [
       "HBox(children=(FloatProgress(value=0.0, max=118.0), HTML(value='')))"
      ]
     },
     "metadata": {},
     "output_type": "display_data"
    },
    {
     "name": "stdout",
     "output_type": "stream",
     "text": [
      "\n"
     ]
    },
    {
     "data": {
      "application/vnd.jupyter.widget-view+json": {
       "model_id": "c89c751175b54fb580acceabc6b1658a",
       "version_major": 2,
       "version_minor": 0
      },
      "text/plain": [
       "HBox(children=(FloatProgress(value=0.0, max=118.0), HTML(value='')))"
      ]
     },
     "metadata": {},
     "output_type": "display_data"
    },
    {
     "name": "stdout",
     "output_type": "stream",
     "text": [
      "\n"
     ]
    },
    {
     "data": {
      "application/vnd.jupyter.widget-view+json": {
       "model_id": "355ae5c5610f4a968227f69ddeff57d1",
       "version_major": 2,
       "version_minor": 0
      },
      "text/plain": [
       "HBox(children=(FloatProgress(value=0.0, max=118.0), HTML(value='')))"
      ]
     },
     "metadata": {},
     "output_type": "display_data"
    },
    {
     "name": "stdout",
     "output_type": "stream",
     "text": [
      "\n",
      "The mean classification accuracy is 0.9765625.\n",
      "The mean reconstruction error is 0.34404683113098145.\n",
      "The mean absolute thickness error is 0.17375248670578003.\n"
     ]
    }
   ],
   "source": [
    "model = VAE()\n",
    "model.train_(train_set)\n",
    "model.eval_(test_set)"
   ]
  },
  {
   "cell_type": "code",
   "execution_count": 15,
   "metadata": {},
   "outputs": [
    {
     "data": {
      "text/plain": [
       "<matplotlib.image.AxesImage at 0x13ec35a10>"
      ]
     },
     "execution_count": 15,
     "metadata": {},
     "output_type": "execute_result"
    },
    {
     "data": {
      "image/png": "[encoded data removed]",
      "text/plain": [
       "<Figure size 1152x288 with 1 Axes>"
      ]
     },
     "metadata": {
      "needs_background": "light"
     },
     "output_type": "display_data"
    }
   ],
   "source": [
    "# plot some images\n",
    "num_samples = 8\n",
    "x = list(test_set)[0][0][:num_samples]\n",
    "with torch.no_grad():\n",
    "    x_hat = model(x)[0]\n",
    "x_row = torch.squeeze(torch.cat(torch.split(x, 1), 3))\n",
    "x_hat_row = torch.squeeze(torch.cat(torch.split(x_hat, 1), 3))\n",
    "img = torch.cat([x_row, x_hat_row], 0)\n",
    "plt.figure(figsize=(16,4))\n",
    "plt.imshow(img, cmap='Greys')"
   ]
  },
  {
   "cell_type": "markdown",
   "metadata": {},
   "source": [
    "## Optimization"
   ]
  },
  {
   "cell_type": "code",
   "execution_count": 16,
   "metadata": {},
   "outputs": [],
   "source": [
    "def latent_thickness_step(z, t_model, step_size):\n",
    "    z = z.clone().detach().requires_grad_(True)\n",
    "    t_model.zero_grad()\n",
    "    t_hat = t_model(z)\n",
    "    t_hat[0].backward(retain_graph=True)\n",
    "    return z + step_size * z.grad"
   ]
  },
  {
   "cell_type": "code",
   "execution_count": 17,
   "metadata": {},
   "outputs": [],
   "source": [
    "def latent_thickness_optimization(z, model, step_size, n_steps=20):\n",
    "    x_hats = [model.decoder(z)]\n",
    "    for step in range(n_steps):\n",
    "        z = latent_thickness_step(z, model.thickness_model, step_size)\n",
    "        x_hats.append(model.decoder(z))\n",
    "    return x_hats"
   ]
  },
  {
   "cell_type": "code",
   "execution_count": 18,
   "metadata": {},
   "outputs": [],
   "source": [
    "def latent_digit_step(z, clf, target, step_size):\n",
    "    z = z.clone().detach().requires_grad_(True)\n",
    "    clf.zero_grad()\n",
    "    y_hat = clf(z)\n",
    "    y_hat[0][target].backward(retain_graph=True)\n",
    "    return z + step_size * z.grad"
   ]
  },
  {
   "cell_type": "code",
   "execution_count": 19,
   "metadata": {},
   "outputs": [],
   "source": [
    "def latent_digit_optimization(z, model, target, step_size, n_steps=20):\n",
    "    x_hats = [model.decoder(z)]\n",
    "    for step in range(n_steps):\n",
    "        z = latent_digit_step(z, model.classifier, target, step_size)\n",
    "        x_hats.append(model.decoder(z))\n",
    "    return x_hats"
   ]
  },
  {
   "cell_type": "markdown",
   "metadata": {},
   "source": [
    "First, let's pick a random image."
   ]
  },
  {
   "cell_type": "code",
   "execution_count": 20,
   "metadata": {},
   "outputs": [
    {
     "data": {
      "text/plain": [
       "<matplotlib.image.AxesImage at 0x13ec1e190>"
      ]
     },
     "execution_count": 20,
     "metadata": {},
     "output_type": "execute_result"
    },
    {
     "data": {
      "image/png": "[encoded data removed]",
      "text/plain": [
       "<Figure size 432x288 with 1 Axes>"
      ]
     },
     "metadata": {
      "needs_background": "light"
     },
     "output_type": "display_data"
    }
   ],
   "source": [
    "z_start = torch.rand(1, EMBEDDING_DIM)\n",
    "plt.imshow(model.decoder(z_start).squeeze().detach().numpy(), cmap='Greys')"
   ]
  },
  {
   "cell_type": "markdown",
   "metadata": {},
   "source": [
    "Now, let's increase the thickness."
   ]
  },
  {
   "cell_type": "code",
   "execution_count": 21,
   "metadata": {},
   "outputs": [
    {
     "data": {
      "text/plain": [
       "<matplotlib.image.AxesImage at 0x13e6a3710>"
      ]
     },
     "execution_count": 21,
     "metadata": {},
     "output_type": "execute_result"
    },
    {
     "data": {
      "image/png": "[encoded data removed]",
      "text/plain": [
       "<Figure size 1152x288 with 1 Axes>"
      ]
     },
     "metadata": {
      "needs_background": "light"
     },
     "output_type": "display_data"
    }
   ],
   "source": [
    "x_hats = latent_thickness_optimization(z_start, model, 0.2)\n",
    "plt.figure(figsize=(16,4))\n",
    "plt.imshow(torch.squeeze(torch.cat(x_hats, 3)).detach().numpy(), cmap='Greys')"
   ]
  },
  {
   "cell_type": "markdown",
   "metadata": {},
   "source": [
    "We can also gradually transform it into another digit."
   ]
  },
  {
   "cell_type": "code",
   "execution_count": 22,
   "metadata": {},
   "outputs": [
    {
     "data": {
      "text/plain": [
       "<matplotlib.image.AxesImage at 0x13e8da990>"
      ]
     },
     "execution_count": 22,
     "metadata": {},
     "output_type": "execute_result"
    },
    {
     "data": {
      "image/png": "[encoded data removed]",
      "text/plain": [
       "<Figure size 1152x2880 with 1 Axes>"
      ]
     },
     "metadata": {
      "needs_background": "light"
     },
     "output_type": "display_data"
    }
   ],
   "source": [
    "c_x_hats = []\n",
    "for target_digit in range(NUM_CLASSES):\n",
    "    x_hats = latent_digit_optimization(z_start, model, target_digit, 0.03)\n",
    "    c_x_hats.append(x_hats)\n",
    "imgs = []\n",
    "for i in range(NUM_CLASSES):\n",
    "    imgs.append(torch.squeeze(torch.cat(c_x_hats[i], 3)).detach().numpy())\n",
    "plt.figure(figsize=(16,40))\n",
    "plt.imshow(np.concatenate(imgs), cmap='Greys')"
   ]
  },
  {
   "cell_type": "code",
   "execution_count": null,
   "metadata": {},
   "outputs": [],
   "source": []
  }
 ],
 "metadata": {
  "kernelspec": {
   "display_name": "Python 3",
   "language": "python",
   "name": "python3"
  },
  "language_info": {
   "codemirror_mode": {
    "name": "ipython",
    "version": 3
   },
   "file_extension": ".py",
   "mimetype": "text/x-python",
   "name": "python",
   "nbconvert_exporter": "python",
   "pygments_lexer": "ipython3",
   "version": "3.7.4"
  }
 },
 "nbformat": 4,
 "nbformat_minor": 2
}
